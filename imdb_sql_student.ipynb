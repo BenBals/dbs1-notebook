{
 "cells": [
  {
   "cell_type": "markdown",
   "metadata": {
    "collapsed": true
   },
   "source": [
    "# IMDB SQL Notebook\n",
    "This notebook introduces the basics of SQL's Data Definition Language (DDL) and Data Manipulation Language (DML) and advanced SQL statements, such as joins and aggregation."
   ]
  },
  {
   "cell_type": "code",
   "execution_count": null,
   "metadata": {},
   "outputs": [],
   "source": [
    "-- Just run this and ignore. If you are interested in why this is needed for SQLite, \n",
    "-- read https://www.sqlite.org/foreignkeys.html at 2. Enabling Foreign Key Support\n",
    "PRAGMA foreign_keys = ON;"
   ]
  },
  {
   "cell_type": "markdown",
   "metadata": {},
   "source": [
    "# CREATE TABLE - DDL\n",
    "\n",
    "Details on sqllite3 [datatypes](https://www.sqlite.org/datatype3.html).\n",
    "\n",
    "First, you should create a table for actors, movies and roles:\n",
    "\n",
    "* movies(id, name, year, rank)\n",
    "* actors(id, first_name, last_name, gender)\n",
    "* roles(actor_id, movie_id, role)\n",
    "\n",
    "A identifier (`id`) is used as primary key. The `gender` always consist of exactly 1 character. `year` is a number and `rank` is a normal-size floating point number. No `name`, `first_name`, `last_name` or `role` should ever be `NULL` and all can have up to 100 characteres. A `roles`-entry always refererences a movie (`movie_id`) and an actor (`actor_id`). Therefore it should be deleted if the respective movie or actor were deleted. Each `role, actor_id, movie_id` combination should be unique.\n",
    "\n",
    "\n",
    "### Show results\n",
    "You can use `.schema` to show the result of your create statements and `.tables` to show only the table names.\n"
   ]
  },
  {
   "cell_type": "code",
   "execution_count": null,
   "metadata": {},
   "outputs": [],
   "source": [
    "-- Delete tables if they exist so you can re-run this cell multiple times. \n",
    "-- If you get error with \"table xx already exists\" or \"no such table xx\", \n",
    "-- you might need to restart the Kernel. To do this, click on Kernel at the\n",
    "-- top of the notebook and select Restart. Then you need to re-run all cells again.\n",
    "DROP TABLE IF EXISTS movies;\n",
    "DROP TABLE IF EXISTS actors;\n",
    "DROP TABLE IF EXISTS roles;\n",
    "\n",
    "\n",
    "-- Your CREATE TABLE statements here:\n",
    "\n",
    "\n",
    "\n",
    "-- Show results\n",
    ".schema"
   ]
  },
  {
   "cell_type": "code",
   "execution_count": null,
   "metadata": {},
   "outputs": [],
   "source": [
    "-- Copy-paste our additional CREATE TABLES statements here for the full schema.\n"
   ]
  },
  {
   "cell_type": "markdown",
   "metadata": {},
   "source": [
    "# Fill the database with life - DML\n",
    "\n",
    "In this exercise, you should insert values into the following tables.\n",
    "\n",
    "\n",
    "The movie table should look like this:\n",
    "\n",
    " id |   name   |   year   |   rank\n",
    "----| -------- | -------- | --------\n",
    "  4 | Ocean's 8 | 2018 | 6.2\n",
    "  5 | Django Unchained | 2012 | 8.4\n",
    "  6 | Reservoir Dogs | 1992 | 8.3\n",
    "\n",
    "\n",
    "\n",
    "The actors table accordingly:\n",
    "\n",
    "  id |   first_name   |   last_name   |   gender\n",
    "-------- | -------- | -------- | --------\n",
    " 1 | Christoph | Waltz | M   \n",
    " 2 | Jamie | Foxx | M\n",
    " 3 | Robert | De Niro | M\n",
    " 4 | Meryl | Streep | F\n",
    "    \n",
    "\n",
    "The directors table:\n",
    "\n",
    "id |   first_name   |   last_name \n",
    "-------- | -------- | -------- \n",
    " 1 | Quentin | Tarantino   \n",
    " 2 | Steven | Soderbergh\n",
    " 3 | Gary | Ross\n",
    " \n",
    " The genres table:\n",
    " \n",
    " \n",
    " id |   name\n",
    "-------- | --------\n",
    " 1 | Crime\n",
    " 2 | Thriller  \n",
    " 3 | Action \n"
   ]
  },
  {
   "cell_type": "code",
   "execution_count": null,
   "metadata": {},
   "outputs": [],
   "source": [
    "-- Remove old entries so we don't have duplicates or errors for already existing records.\n",
    "-- DELETE FROM movies;\n",
    "-- DELETE FROM actors;\n",
    "-- DELETE FROM roles;\n",
    "\n",
    "\n",
    "-- Insert stuff here\n",
    "-- Remember, the insert statement looks like this\n",
    "-- INSERT INTO table_name(col_name1, col_name2, ..., col_nameN) \n",
    "--   VALUES (val1, val2, ..., valN)\n",
    "--\n",
    "-- or\n",
    "-- \n",
    "-- INSERT INTO table_name VALUES (val1, val2, ..., valN)\n",
    "\n",
    "-- Your INSERT INTO statements here:\n",
    "\n",
    "\n",
    "\n",
    "-- Show results\n",
    "-- SELECT * FROM movies;\n",
    "-- SELECT * FROM actors;\n",
    "-- SELECT * FROM directors;"
   ]
  },
  {
   "cell_type": "code",
   "execution_count": null,
   "metadata": {},
   "outputs": [],
   "source": [
    "-- COPY THE ADDITIONAL INSERT STATEMENTS HERE\n",
    "\n"
   ]
  },
  {
   "cell_type": "markdown",
   "metadata": {},
   "source": [
    "# Altering an existing table - DDL\n",
    "\n",
    "In this exercise, you are required to alter an existing table to add columns.\n",
    "\n",
    "\n",
    "The `movies` table should contain a `budget` (integer) column, which contains the amount of money that a movie cost.\n",
    "\n",
    "The `roles` table should contain a `salary` (integer) column, which contains the salary an actor received for a role."
   ]
  },
  {
   "cell_type": "code",
   "execution_count": null,
   "metadata": {},
   "outputs": [],
   "source": [
    "-- Should you incorrectly alter the table, you might need to re-run the CREATE TABLE cell to get a clean start.\n",
    "\n",
    "-- Your ALTER TABLE statement here:\n",
    "\n",
    "\n",
    "\n",
    "\n",
    "-- Show results (the formatting might be a bit off after the ALTER TABLE, \n",
    "-- so it might show multiple columns in one row).\n",
    ".schema movies\n",
    ".schema roles"
   ]
  },
  {
   "cell_type": "markdown",
   "metadata": {},
   "source": [
    "# Updating table values - DML\n",
    "\n",
    "The added columns now need to be filled with data.\n",
    "\n",
    "movies:\n",
    "\n",
    "id       | name     |   year   |   budget\n",
    "-------- | -------- | -------- | --------\n",
    "4       | Oceans'8 | 2018     |  70000000\n",
    "5       | Django Unchained       | 2012   |   100000000\n",
    "6       | Reservoir Dogs       | 1992   |   1200000"
   ]
  },
  {
   "cell_type": "code",
   "execution_count": null,
   "metadata": {},
   "outputs": [],
   "source": [
    "-- Should you incorrectly update the records, use SELECT * FROM to look \n",
    "-- at the current state to adjust your UPDATE statements.\n",
    "\n",
    "-- Your UPDATE statement here:\n"
   ]
  },
  {
   "cell_type": "code",
   "execution_count": null,
   "metadata": {},
   "outputs": [],
   "source": [
    "-- COPY THE ADDITIONAL INSERT STATEMENTS HERE\n",
    "-- MOVIES\n"
   ]
  },
  {
   "cell_type": "code",
   "execution_count": null,
   "metadata": {},
   "outputs": [],
   "source": [
    "-- COPY THE ADDITIONAL INSERT STATEMENTS HERE\n",
    "-- MOVIE_GENRES\n"
   ]
  },
  {
   "cell_type": "code",
   "execution_count": null,
   "metadata": {},
   "outputs": [],
   "source": [
    "-- COPY THE ADDITIONAL INSERT STATEMENTS HERE\n",
    "-- MOVIE_DIRECTORS\n"
   ]
  },
  {
   "cell_type": "code",
   "execution_count": null,
   "metadata": {},
   "outputs": [],
   "source": [
    "-- COPY THE ADDITIONAL INSERT STATEMENTS HERE\n",
    "-- ROLES\n"
   ]
  },
  {
   "cell_type": "markdown",
   "metadata": {},
   "source": [
    "# Querying the database - SQLite3\n",
    "\n",
    "Let's use some SQL statements to query our new database :)\n"
   ]
  },
  {
   "cell_type": "markdown",
   "metadata": {},
   "source": [
    "# Query 1: Return the average salary for ''Kill Bill 2''"
   ]
  },
  {
   "cell_type": "code",
   "execution_count": null,
   "metadata": {},
   "outputs": [],
   "source": [
    "-- ENTER YOUR SQL QUERY HERE:\n",
    "\n",
    "\n",
    "\n"
   ]
  },
  {
   "cell_type": "markdown",
   "metadata": {},
   "source": [
    "# Query 1a: Return the average salaries for all movies"
   ]
  },
  {
   "cell_type": "code",
   "execution_count": null,
   "metadata": {},
   "outputs": [],
   "source": [
    "-- ENTER YOUR SQL QUERY HERE:\n",
    "\n",
    "\n",
    "\n"
   ]
  },
  {
   "cell_type": "markdown",
   "metadata": {},
   "source": [
    "# Query 2: Return the average salaries for movies from all directors"
   ]
  },
  {
   "cell_type": "code",
   "execution_count": null,
   "metadata": {},
   "outputs": [],
   "source": [
    "-- ENTER YOUR SQL QUERY HERE:\n",
    "\n",
    "\n",
    "\n"
   ]
  },
  {
   "cell_type": "markdown",
   "metadata": {},
   "source": [
    "# Query 2a: Return the max. average salary based on the director"
   ]
  },
  {
   "cell_type": "code",
   "execution_count": null,
   "metadata": {},
   "outputs": [],
   "source": [
    "-- ENTER YOUR SQL QUERY HERE:\n",
    "\n",
    "\n",
    "\n"
   ]
  },
  {
   "cell_type": "markdown",
   "metadata": {},
   "source": [
    "# Query 3: Return the worst ranked movies from each genre"
   ]
  },
  {
   "cell_type": "code",
   "execution_count": null,
   "metadata": {},
   "outputs": [],
   "source": [
    "-- ENTER YOUR SQL QUERY HERE:\n",
    "\n",
    "\n",
    "\n"
   ]
  },
  {
   "cell_type": "markdown",
   "metadata": {},
   "source": [
    "# Query 4: Return the percentage paid for salaries from each movie's budget"
   ]
  },
  {
   "cell_type": "code",
   "execution_count": null,
   "metadata": {},
   "outputs": [],
   "source": [
    "-- ENTER YOUR SQL QUERY HERE:\n",
    "\n",
    "\n",
    "\n"
   ]
  },
  {
   "cell_type": "markdown",
   "metadata": {},
   "source": [
    "# Query 5: Return the best-paid genre"
   ]
  },
  {
   "cell_type": "code",
   "execution_count": null,
   "metadata": {},
   "outputs": [],
   "source": [
    "-- ENTER YOUR SQL QUERY HERE:\n",
    "\n",
    "\n",
    "\n"
   ]
  },
  {
   "cell_type": "markdown",
   "metadata": {},
   "source": [
    "# Query 5a: Restrict the number of movies (at least 2 movies/genre)"
   ]
  },
  {
   "cell_type": "code",
   "execution_count": null,
   "metadata": {},
   "outputs": [],
   "source": [
    "-- ENTER YOUR SQL QUERY HERE:\n",
    "\n",
    "\n",
    "\n"
   ]
  },
  {
   "cell_type": "markdown",
   "metadata": {},
   "source": [
    "# Query 6: Return the actors and the roles for which they had salary lower than the average"
   ]
  },
  {
   "cell_type": "code",
   "execution_count": null,
   "metadata": {},
   "outputs": [],
   "source": [
    "-- ENTER YOUR SQL QUERY HERE:\n",
    "\n",
    "\n",
    "\n"
   ]
  },
  {
   "cell_type": "markdown",
   "metadata": {},
   "source": [
    "# Query 7: Return the busiest actors (all instances)"
   ]
  },
  {
   "cell_type": "code",
   "execution_count": null,
   "metadata": {},
   "outputs": [],
   "source": [
    "-- ENTER YOUR SQL QUERY HERE:\n",
    "\n",
    "\n",
    "\n"
   ]
  }
 ],
 "metadata": {
  "kernelspec": {
   "display_name": "Sqlite3",
   "language": "sqlite3",
   "name": "sqlite3"
  },
  "language_info": {
   "codemirror_mode": "sql",
   "file_extension": ".sql",
   "mimetype": "text/x-sql",
   "name": "sqlite3"
  }
 },
 "nbformat": 4,
 "nbformat_minor": 1
}